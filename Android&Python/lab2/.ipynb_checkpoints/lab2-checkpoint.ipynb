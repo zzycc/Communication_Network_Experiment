{
 "cells": [
  {
   "cell_type": "code",
   "execution_count": 7,
   "metadata": {},
   "outputs": [],
   "source": [
    "import tkinter\n",
    "from tkinter import font\n",
    "import time\n",
    "\n",
    "top = tkinter.Tk()\n",
    "f1 = tkinter.Frame(top)\n",
    "f2 = tkinter.Frame(top)\n",
    "ft = font.Font(size = 30)\n",
    "var = tkinter.StringVar()\n",
    "var.set(\"0\")\n",
    "flag = 1"
   ]
  },
  {
   "cell_type": "code",
   "execution_count": 8,
   "metadata": {},
   "outputs": [],
   "source": [
    "def SetValue():\n",
    "    Screen = tkinter.Label(f1,textvariable = var, font = ft).grid(row = 0,column = 1)\n",
    "def Click(x):\n",
    "    global flag\n",
    "    if flag == 1 or var.get() == \"ERROR\":\n",
    "        flag = 0\n",
    "        if x == \" x \" or x == \" / \" or x == \" + \":\n",
    "            var.set(var.get()+x)\n",
    "            return\n",
    "        if var.get()!= \"0\" and x == \" - \":\n",
    "            var.set(var.get()+x)\n",
    "            return\n",
    "        var.set(x)\n",
    "        return\n",
    "    var.set(var.get()+x)\n",
    "def Clear():\n",
    "    var.set(\"0\")\n",
    "    global flag\n",
    "    flag = 1\n",
    "def Calculate():\n",
    "    tmp = var.get().split()\n",
    "    if tmp[0]==\"x\" or tmp[0]==\"/\":\n",
    "        var.set(\"ERROR\")\n",
    "        return\n",
    "    base = 0;\n",
    "    if tmp[0] == \"+\":\n",
    "        base = 1\n",
    "    if tmp[0] == \"-\":\n",
    "        base = 1\n",
    "        tmp[1] = \"-\"+ tmp[1]\n",
    "    ans = int(tmp[base])\n",
    "    if (len(tmp) - base) % 2 == 0:\n",
    "        var.set(\"ERROR\")\n",
    "        return\n",
    "    for l in range(base+1,len(tmp),2):\n",
    "        if tmp[l] == '+':\n",
    "            ans+=int(tmp[l+1])\n",
    "        if tmp[l] == '-':\n",
    "            ans-=int(tmp[l+1])\n",
    "        if tmp[l] == 'x':\n",
    "            ans*=int(tmp[l+1])\n",
    "        if tmp[l] == '/':\n",
    "            if tmp[l+1] == '0':\n",
    "                var.set(\"ERROR\")\n",
    "                return\n",
    "            ans/=int(tmp[l+1])\n",
    "    global flag\n",
    "    flag = 1\n",
    "    var.set(str(ans))"
   ]
  },
  {
   "cell_type": "code",
   "execution_count": 9,
   "metadata": {},
   "outputs": [],
   "source": [
    "SetValue()\n",
    "Btn7 = tkinter.Button(f2, text = \"7\" , borderwidth=5, width = 4, font = ft, command = lambda: Click(\"7\")).grid(row = 0, column = 0)\n",
    "Btn8 = tkinter.Button(f2, text = \"8\" , borderwidth=5, width = 4, font = ft, command = lambda: Click(\"8\")).grid(row = 0, column = 1)\n",
    "Btn9 = tkinter.Button(f2, text = \"9\" , borderwidth=5, width = 4, font = ft, command = lambda: Click(\"9\")).grid(row = 0, column = 2)\n",
    "BtnAdd = tkinter.Button(f2, text = \"+\" , borderwidth=5, width = 4, font = ft, command = lambda: Click(\" + \")).grid(row = 0, column = 3)\n",
    "Btn4 = tkinter.Button(f2, text = \"4\" , borderwidth=5, width = 4, font = ft, command = lambda: Click(\"4\")).grid(row = 1, column = 0)\n",
    "Btn5 = tkinter.Button(f2, text = \"5\" , borderwidth=5, width = 4, font = ft, command = lambda: Click(\"5\")).grid(row = 1, column = 1)\n",
    "Btn6 = tkinter.Button(f2, text = \"6\" , borderwidth=5, width = 4, font = ft, command = lambda: Click(\"6\")).grid(row = 1, column = 2)\n",
    "Btnmin = tkinter.Button(f2, text = \"-\" , borderwidth=5, width = 4, font = ft, command = lambda: Click(\" - \")).grid(row = 1, column = 3)\n",
    "Btn1 = tkinter.Button(f2, text = \"1\" , borderwidth=5, width = 4, font = ft, command = lambda: Click(\"1\")).grid(row = 2, column = 0)\n",
    "Btn2 = tkinter.Button(f2, text = \"2\" , borderwidth=5, width = 4, font = ft, command = lambda: Click(\"2\")).grid(row = 2, column = 1)\n",
    "Btn3 = tkinter.Button(f2, text = \"3\" , borderwidth=5, width = 4, font = ft, command = lambda: Click(\"3\")).grid(row = 2, column = 2)\n",
    "Btnmul = tkinter.Button(f2, text = \"x\" , borderwidth=5, width = 4, font = ft, command = lambda: Click(\" x \")).grid(row = 2, column = 3)\n",
    "Btn0 = tkinter.Button(f2, text = \"0\" , borderwidth=5, width = 4, font = ft, command = lambda: Click(\"0\")).grid(row = 3, column = 0)\n",
    "BtnClear = tkinter.Button(f2, text = \"C\" , borderwidth=5, width = 4, font = ft, command = Clear).grid(row = 3, column =1)\n",
    "BtnEqual = tkinter.Button(f2, text = \"=\" , borderwidth=5, width = 4, font = ft, command = Calculate).grid(row = 3, column = 2)\n",
    "BtnDiv = tkinter.Button(f2, text = \"/\" , borderwidth=5, width = 4, font = ft, command = lambda: Click(\" / \")).grid(row = 3, column = 3)\n",
    "f1.pack()\n",
    "f2.pack()\n",
    "top.mainloop()"
   ]
  }
 ],
 "metadata": {
  "kernelspec": {
   "display_name": "Python 3",
   "language": "python",
   "name": "python3"
  },
  "language_info": {
   "codemirror_mode": {
    "name": "ipython",
    "version": 3
   },
   "file_extension": ".py",
   "mimetype": "text/x-python",
   "name": "python",
   "nbconvert_exporter": "python",
   "pygments_lexer": "ipython3",
   "version": "3.7.0"
  }
 },
 "nbformat": 4,
 "nbformat_minor": 2
}
