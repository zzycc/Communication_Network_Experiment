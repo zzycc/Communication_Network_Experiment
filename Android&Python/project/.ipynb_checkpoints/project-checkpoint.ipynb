{
 "cells": [
  {
   "cell_type": "code",
   "execution_count": 74,
   "metadata": {},
   "outputs": [],
   "source": [
    "import tkinter\n",
    "from tkinter import font\n",
    "import random\n",
    "opt = ['0','1','2','3','4','5','6','7','8','9']\n",
    "ans = random.sample(opt,4)\n",
    "top = tkinter.Tk()\n",
    "ft = font.Font(size = 20)\n",
    "Timevar = tkinter.StringVar()\n",
    "Guesstime = 0\n",
    "top.title('0410835_project')\n",
    "top.geometry('1000x1000')\n",
    "f1 = tkinter.Frame(top)\n",
    "f2 = tkinter.Frame(top)\n",
    "f3 = tkinter.Frame(top)\n",
    "minute = 0\n",
    "second = 0\n",
    "Timevar.set(\"Time : \"+str(minute)+':'+str(second))"
   ]
  },
  {
   "cell_type": "code",
   "execution_count": 75,
   "metadata": {},
   "outputs": [],
   "source": [
    "def update_Time():\n",
    "    global second,minute\n",
    "    second+=1\n",
    "    if second == 60:\n",
    "        minute+=1\n",
    "        second=0\n",
    "    Timevar.set(\"Time : \"+str(minute)+':'+str(second))\n",
    "    top.after(1000,update_Time)\n",
    "def Run(num):\n",
    "    global Guesstime,ans\n",
    "    Textinsert = \"\"\n",
    "    if len(num)!=4:\n",
    "        Textinsert += num+\"\\t\"+\"Invalid input!!(length error) Try again!!\"\n",
    "    if !(num[0]!=num[1] and num[0]!=num[2] and num[0]!=num[3] and num[1]!=num[2] and num[1]!=num[3] and num[2]!=num[3]) :\n",
    "        Textinsert += num+\"\\t\"+\"Invalid input!!(character repeat) Try again!!\"\n",
    "    if len(Textinsert)==0:\n",
    "        Guesstime+=1\n",
    "        A=0\n",
    "        B=0\n",
    "        for i1 in [0,1,2,3]:\n",
    "            for i2 in [0,1,2,3]:\n",
    "                if num[i1]==ans[i2] and i1==i2:\n",
    "                    A+=1\n",
    "                else if num[i1]==ans[i2]:\n",
    "                    B+=1\n",
    "        Textinsert = \"Round\"+str(Guesstime)+\" \"+num+\" \"+str(A)+\"A\"+str(B)+\"B\"\n",
    "        if A==4:\n",
    "            Textinsert += \"You win!! Congratulation!!\"\n",
    "            return\n",
    "        if Guesstime==10:\n",
    "            Textinsert += \"You lose!! Ansert: \"+ans"
   ]
  },
  {
   "cell_type": "code",
   "execution_count": 76,
   "metadata": {},
   "outputs": [],
   "source": [
    "Time = tkinter.Label(f1,textvariable = Timevar, font = ft).grid(row = 0, column = 1)\n",
    "Welcome = tkinter.Label(f1,text = \"Welcome to Number Game~\", font = ft).grid(row = 1, column = 1)\n",
    "guess = tkinter.Entry(f1).grid(row = 2, column = 1)\n",
    "run = tkinter.Button(f1, text= \"RUN\", borderwidth=5, width = 5, font = ft, command = lambda: Run(guess.get())).grid(row = 3, column = 1)\n",
    "#content = tkinter.Text()\n",
    "#answer = tkinter.Button()\n",
    "#new = tkinter.Button()\n",
    "#exit = tkinter.Button()\n",
    "\n",
    "f1.pack()\n",
    "#f2.pack()\n",
    "#f3.pack()\n",
    "update_Time()\n",
    "top.mainloop()"
   ]
  }
 ],
 "metadata": {
  "kernelspec": {
   "display_name": "Python 3",
   "language": "python",
   "name": "python3"
  },
  "language_info": {
   "codemirror_mode": {
    "name": "ipython",
    "version": 3
   },
   "file_extension": ".py",
   "mimetype": "text/x-python",
   "name": "python",
   "nbconvert_exporter": "python",
   "pygments_lexer": "ipython3",
   "version": "3.7.0"
  }
 },
 "nbformat": 4,
 "nbformat_minor": 2
}
